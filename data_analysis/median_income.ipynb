{
 "cells": [
  {
   "cell_type": "code",
   "execution_count": 69,
   "metadata": {},
   "outputs": [],
   "source": [
    "import pandas as pd\n",
    "import numpy as np\n",
    "import plotly.graph_objects as go\n",
    "import ipywidgets as widgets\n",
    "import logging\n",
    "import wrangling\n",
    "\n",
    "logger = logging.getLogger(__name__)\n",
    "FORMAT = \"[%(filename)s:%(lineno)s - %(funcName)20s() ] %(message)s\"\n",
    "logging.basicConfig(format=FORMAT)\n",
    "logger.setLevel(logging.DEBUG)"
   ]
  },
  {
   "cell_type": "code",
   "execution_count": 70,
   "metadata": {},
   "outputs": [
    {
     "data": {
      "text/html": [
       "<div>\n",
       "<style scoped>\n",
       "    .dataframe tbody tr th:only-of-type {\n",
       "        vertical-align: middle;\n",
       "    }\n",
       "\n",
       "    .dataframe tbody tr th {\n",
       "        vertical-align: top;\n",
       "    }\n",
       "\n",
       "    .dataframe thead th {\n",
       "        text-align: right;\n",
       "    }\n",
       "</style>\n",
       "<table border=\"1\" class=\"dataframe\">\n",
       "  <thead>\n",
       "    <tr style=\"text-align: right;\">\n",
       "      <th></th>\n",
       "      <th>REF_DATE</th>\n",
       "      <th>GEO</th>\n",
       "      <th>DGUID</th>\n",
       "      <th>Age group</th>\n",
       "      <th>Sex</th>\n",
       "      <th>Income source</th>\n",
       "      <th>Statistics</th>\n",
       "      <th>UOM</th>\n",
       "      <th>UOM_ID</th>\n",
       "      <th>SCALAR_FACTOR</th>\n",
       "      <th>SCALAR_ID</th>\n",
       "      <th>VECTOR</th>\n",
       "      <th>COORDINATE</th>\n",
       "      <th>VALUE</th>\n",
       "      <th>STATUS</th>\n",
       "      <th>SYMBOL</th>\n",
       "      <th>TERMINATED</th>\n",
       "      <th>DECIMALS</th>\n",
       "    </tr>\n",
       "  </thead>\n",
       "  <tbody>\n",
       "    <tr>\n",
       "      <th>0</th>\n",
       "      <td>1976</td>\n",
       "      <td>Canada</td>\n",
       "      <td>2016A000011124</td>\n",
       "      <td>16 years and over</td>\n",
       "      <td>Both sexes</td>\n",
       "      <td>Total income</td>\n",
       "      <td>Number of persons</td>\n",
       "      <td>Number</td>\n",
       "      <td>223</td>\n",
       "      <td>thousands</td>\n",
       "      <td>3</td>\n",
       "      <td>v107660854</td>\n",
       "      <td>1.1.1.1.1</td>\n",
       "      <td>16797.0</td>\n",
       "      <td>NaN</td>\n",
       "      <td>NaN</td>\n",
       "      <td>NaN</td>\n",
       "      <td>0</td>\n",
       "    </tr>\n",
       "    <tr>\n",
       "      <th>1</th>\n",
       "      <td>1976</td>\n",
       "      <td>Canada</td>\n",
       "      <td>2016A000011124</td>\n",
       "      <td>16 years and over</td>\n",
       "      <td>Both sexes</td>\n",
       "      <td>Total income</td>\n",
       "      <td>Number with income</td>\n",
       "      <td>Number</td>\n",
       "      <td>223</td>\n",
       "      <td>thousands</td>\n",
       "      <td>3</td>\n",
       "      <td>v107660855</td>\n",
       "      <td>1.1.1.1.2</td>\n",
       "      <td>14167.0</td>\n",
       "      <td>NaN</td>\n",
       "      <td>NaN</td>\n",
       "      <td>NaN</td>\n",
       "      <td>0</td>\n",
       "    </tr>\n",
       "  </tbody>\n",
       "</table>\n",
       "</div>"
      ],
      "text/plain": [
       "   REF_DATE     GEO           DGUID          Age group         Sex  \\\n",
       "0      1976  Canada  2016A000011124  16 years and over  Both sexes   \n",
       "1      1976  Canada  2016A000011124  16 years and over  Both sexes   \n",
       "\n",
       "  Income source          Statistics     UOM  UOM_ID SCALAR_FACTOR  SCALAR_ID  \\\n",
       "0  Total income   Number of persons  Number     223     thousands          3   \n",
       "1  Total income  Number with income  Number     223     thousands          3   \n",
       "\n",
       "       VECTOR COORDINATE    VALUE STATUS  SYMBOL  TERMINATED  DECIMALS  \n",
       "0  v107660854  1.1.1.1.1  16797.0    NaN     NaN         NaN         0  \n",
       "1  v107660855  1.1.1.1.2  14167.0    NaN     NaN         NaN         0  "
      ]
     },
     "execution_count": 70,
     "metadata": {},
     "output_type": "execute_result"
    }
   ],
   "source": [
    "# 5.5s read time\n",
    "#load the data\n",
    "path = r\"../data/raw/11100239.csv\"\n",
    "df = pd.read_csv(path, low_memory=False)\n",
    "df.head(2)"
   ]
  },
  {
   "cell_type": "code",
   "execution_count": 3,
   "metadata": {},
   "outputs": [],
   "source": [
    "cols_to_keep = ['REF_DATE', \n",
    "                'GEO', \n",
    "                'Sex', \n",
    "                'Age group', \n",
    "                'Income source',\n",
    "                'Statistics',\n",
    "                'SCALAR_FACTOR', \n",
    "                'VALUE', \n",
    "                 ]"
   ]
  },
  {
   "cell_type": "code",
   "execution_count": 39,
   "metadata": {},
   "outputs": [],
   "source": [
    "selections = {'REF_DATE': np.array([1976, 1977, 1978, 1979, 1980, 1981, 1982, 1983, 1984, 1985, 1986,\n",
    "                1987, 1988, 1989, 1990, 1991, 1992, 1993, 1994, 1995, 1996, 1997,\n",
    "                1998, 1999, 2000, 2001, 2002, 2003, 2004, 2005, 2006, 2007, 2008,\n",
    "                2009, 2010, 2011, 2012, 2013, 2014, 2015, 2016, 2017, 2018],\n",
    "               dtype=int),\n",
    "         'GEO': np.array(['Canada', 'Atlantic provinces', 'Newfoundland and Labrador',\n",
    "                'Prince Edward Island', 'Nova Scotia', 'New Brunswick', 'Quebec',\n",
    "                'Ontario', 'Prairie provinces', 'Manitoba', 'Saskatchewan',\n",
    "                'Alberta', 'British Columbia', 'Québec, Quebec',\n",
    "                'Montréal, Quebec', 'Ottawa-Gatineau, Ontario/Quebec',\n",
    "                'Toronto, Ontario', 'Winnipeg, Manitoba', 'Calgary, Alberta',\n",
    "                'Edmonton, Alberta', 'Vancouver, British Columbia'], dtype=object),\n",
    "         'Sex': np.array(['Both sexes', 'Males', 'Females'], dtype=object),\n",
    "         'Age group': np.array(['16 years and over', '16 to 24 years', '25 to 54 years',\n",
    "                '25 to 34 years', '35 to 44 years', '45 to 54 years',\n",
    "                '55 to 64 years', '65 years and over'], dtype=object),\n",
    "         'Income source': np.array(['Total income', 'Market income', 'Employment income',\n",
    "                'Wages, salaries and commissions', 'Self-employment income',\n",
    "                'Investment income', 'Retirement income', 'Other income',\n",
    "                'Government transfers',\n",
    "                \"Old Age Security (OAS) and Guaranteed Income Supplement (GIS), Spouse's Allowance (SPA)\",\n",
    "                'Canada Pension Plan (CPP) and Quebec Pension Plan (QPP) benefits',\n",
    "                'Child benefits', 'Employment Insurance (EI) benefits',\n",
    "                'Social assistance', 'Other government transfers'], dtype=object),\n",
    "         'Statistics': np.array(['Average income (excluding zeros)',\n",
    "                'Median income (excluding zeros)'], dtype=object)}"
   ]
  },
  {
   "cell_type": "code",
   "execution_count": 5,
   "metadata": {},
   "outputs": [],
   "source": [
    "provinces = ['Atlantic provinces', 'Newfoundland and Labrador',\n",
    "                'Prince Edward Island', 'Nova Scotia', 'New Brunswick', 'Quebec',\n",
    "                'Ontario', 'Prairie provinces', 'Manitoba', 'Saskatchewan',\n",
    "                'Alberta', 'British Columbia']\n",
    "cities = ['Québec, Quebec',\n",
    "                'Montréal, Quebec', 'Ottawa-Gatineau, Ontario/Quebec',\n",
    "                'Toronto, Ontario', 'Winnipeg, Manitoba', 'Calgary, Alberta',\n",
    "                'Edmonton, Alberta', 'Vancouver, British Columbia']"
   ]
  },
  {
   "cell_type": "code",
   "execution_count": 6,
   "metadata": {},
   "outputs": [],
   "source": [
    "temp = wrangling.subset_plot_data_for_scatter_plot(df, 2017, '25 to 34 years', \"Females\", \"Canada\", [\"Total income\"], ['Median income (excluding zeros)'], cols_to_keep)"
   ]
  },
  {
   "cell_type": "code",
   "execution_count": 7,
   "metadata": {},
   "outputs": [],
   "source": [
    "def subset_for_scatter_plot(df, year, income_source, income_to_plot, cols_to_keep):\n",
    "    df = df.loc[:,cols_to_keep]\n",
    "    df = df[df[\"Income source\"]==income_source]\n",
    "    df = df[df[\"Statistics\"]==income_to_plot]\n",
    "    return df"
   ]
  },
  {
   "cell_type": "code",
   "execution_count": 9,
   "metadata": {},
   "outputs": [],
   "source": [
    "plot_data = subset_for_scatter_plot(df, 2017, \"Total income\", 'Median income (excluding zeros)', cols_to_keep)"
   ]
  },
  {
   "cell_type": "code",
   "execution_count": 10,
   "metadata": {},
   "outputs": [],
   "source": [
    "import ipywidgets as widgets\n",
    "from ipywidgets import HBox, VBox, Dropdown, Checkbox, IntSlider\n",
    "import plotly.graph_objects as go\n",
    "import plotly.express as px"
   ]
  },
  {
   "cell_type": "code",
   "execution_count": 58,
   "metadata": {},
   "outputs": [],
   "source": [
    "sex_selector = widgets.SelectMultiple(\n",
    "    options=selections.get(\"Sex\"),\n",
    "    value=['Females'],\n",
    "    #rows=10,\n",
    "    description='Sex',\n",
    "    disabled=False\n",
    ")"
   ]
  },
  {
   "cell_type": "code",
   "execution_count": 59,
   "metadata": {},
   "outputs": [],
   "source": [
    "geo_selector = widgets.SelectMultiple(\n",
    "    options=selections.get(\"GEO\"),\n",
    "    value = cities,\n",
    "    description = \"Location\"\n",
    ")"
   ]
  },
  {
   "cell_type": "code",
   "execution_count": 74,
   "metadata": {},
   "outputs": [
    {
     "ename": "TypeError",
     "evalue": "create_scatter_plot() missing 3 required positional arguments: 'sex', 'age', and 'locations'",
     "output_type": "error",
     "traceback": [
      "\u001b[1;31m---------------------------------------------------------------------------\u001b[0m",
      "\u001b[1;31mTypeError\u001b[0m                                 Traceback (most recent call last)",
      "\u001b[1;32m<ipython-input-74-21b674be73d5>\u001b[0m in \u001b[0;36m<module>\u001b[1;34m\u001b[0m\n\u001b[0;32m     22\u001b[0m     \u001b[1;32mreturn\u001b[0m \u001b[0mgo\u001b[0m\u001b[1;33m.\u001b[0m\u001b[0mFigureWidget\u001b[0m\u001b[1;33m(\u001b[0m\u001b[0mfig\u001b[0m\u001b[1;33m)\u001b[0m\u001b[1;33m\u001b[0m\u001b[1;33m\u001b[0m\u001b[0m\n\u001b[0;32m     23\u001b[0m \u001b[1;33m\u001b[0m\u001b[0m\n\u001b[1;32m---> 24\u001b[1;33m \u001b[0mscatter_plot\u001b[0m \u001b[1;33m=\u001b[0m \u001b[0mcreate_scatter_plot\u001b[0m\u001b[1;33m(\u001b[0m\u001b[0mplot_data\u001b[0m\u001b[1;33m)\u001b[0m\u001b[1;33m\u001b[0m\u001b[1;33m\u001b[0m\u001b[0m\n\u001b[0m",
      "\u001b[1;31mTypeError\u001b[0m: create_scatter_plot() missing 3 required positional arguments: 'sex', 'age', and 'locations'"
     ]
    }
   ],
   "source": [
    "def create_scatter_plot(df, sex, age, locations)->go.FigureWidget:\n",
    "    \"\"\"\n",
    "    Parameters\n",
    "    ----------\n",
    "    df : pd.DataFrame\n",
    "    sex : tuple\n",
    "    age : str\n",
    "    locations : tuple\n",
    "\n",
    "    \"\"\"\n",
    "    \n",
    "    df = df[df[\"Age group\"]==age]\n",
    "    df = df[df.GEO.isin(cities)]\n",
    "    df = df[df.Sex.isin(sex)]\n",
    "    fig = px.line(df, x=\"REF_DATE\", y=\"VALUE\", color=\"GEO\")\n",
    "    fig.update_xaxes(range=[1975, 2020])\n",
    "    fig.update_yaxes(range=[0, 90000])\n",
    "    fig.update_layout(title=f\"Median income for {sex} aged {age} in 2018 constant dollars\")\n",
    "    return go.FigureWidget(fig)\n",
    "\n",
    "scatter_plot = create_scatter_plot(plot_data, \"Both sexes\", ('35 to 44 years'), cities)"
   ]
  },
  {
   "cell_type": "markdown",
   "metadata": {},
   "source": [
    "styling scatter plot line style\n",
    "sex_line_styles = {\"Both sexes\": \"line\", \"Females\": \"dash\", \"Males\": \"dot\"}\n",
    "line=dict()"
   ]
  },
  {
   "cell_type": "code",
   "execution_count": 65,
   "metadata": {},
   "outputs": [
    {
     "data": {
      "text/plain": [
       "(Scatter({\n",
       "     'hoverlabel': {'namelength': 0},\n",
       "     'hovertemplate': 'GEO=Québec, Quebec<br>REF_DATE=%{x}<br>VALUE=%{y}',\n",
       "     'legendgroup': 'Québec, Quebec',\n",
       "     'line': {'color': '#636efa', 'dash': 'solid'},\n",
       "     'mode': 'lines',\n",
       "     'name': 'Québec, Quebec',\n",
       "     'showlegend': True,\n",
       "     'uid': '05cd9877-30e1-4edb-9dc3-5ce3bb4ef5a3',\n",
       "     'x': array([1976, 1977, 1978, 1979, 1980, 1981, 1982, 1983, 1984, 1985, 1986, 1987,\n",
       "                 1988, 1989, 1990, 1991, 1992, 1993, 1994, 1995, 1996, 1997, 1998, 1999,\n",
       "                 2000, 2001, 2002, 2003, 2004, 2005, 2006, 2007, 2008, 2009, 2010, 2011,\n",
       "                 2012, 2013, 2014, 2015, 2016, 2017, 2018], dtype=int64),\n",
       "     'xaxis': 'x',\n",
       "     'y': array([53800., 46500., 56400., 52100., 54100., 50300., 45900., 45900., 51200.,\n",
       "                 52100., 45400., 49100., 46800., 45100., 43900., 47100., 43400., 44100.,\n",
       "                 44400., 48100., 44500., 44400., 44700., 43200., 41500., 44600., 41300.,\n",
       "                 40700., 48000., 43800., 43800., 43600., 49700., 47900., 48700., 57200.,\n",
       "                 51300., 54100., 46900., 55200., 53000., 58800., 56700.]),\n",
       "     'yaxis': 'y'\n",
       " }),\n",
       " Scatter({\n",
       "     'hoverlabel': {'namelength': 0},\n",
       "     'hovertemplate': 'GEO=Montréal, Quebec<br>REF_DATE=%{x}<br>VALUE=%{y}',\n",
       "     'legendgroup': 'Montréal, Quebec',\n",
       "     'line': {'color': '#EF553B', 'dash': 'solid'},\n",
       "     'mode': 'lines',\n",
       "     'name': 'Montréal, Quebec',\n",
       "     'showlegend': True,\n",
       "     'uid': 'a1dfd98a-dfa2-4c52-ab21-309acd9a7044',\n",
       "     'x': array([1976, 1977, 1978, 1979, 1980, 1981, 1982, 1983, 1984, 1985, 1986, 1987,\n",
       "                 1988, 1989, 1990, 1991, 1992, 1993, 1994, 1995, 1996, 1997, 1998, 1999,\n",
       "                 2000, 2001, 2002, 2003, 2004, 2005, 2006, 2007, 2008, 2009, 2010, 2011,\n",
       "                 2012, 2013, 2014, 2015, 2016, 2017, 2018], dtype=int64),\n",
       "     'xaxis': 'x',\n",
       "     'y': array([47600., 49300., 52700., 49600., 40100., 49400., 47400., 43700., 49000.,\n",
       "                 46200., 45500., 45300., 44000., 41500., 44000., 40600., 43500., 38700.,\n",
       "                 40600., 39100., 38700., 39500., 40600., 40300., 42400., 43200., 43400.,\n",
       "                 41700., 41700., 40000., 42900., 44900., 45500., 43900., 45500., 45500.,\n",
       "                 42100., 47500., 49900., 44100., 48600., 42900., 47500.]),\n",
       "     'yaxis': 'y'\n",
       " }),\n",
       " Scatter({\n",
       "     'hoverlabel': {'namelength': 0},\n",
       "     'hovertemplate': 'GEO=Ottawa-Gatineau, Ontario/Quebec<br>REF_DATE=%{x}<br>VALUE=%{y}',\n",
       "     'legendgroup': 'Ottawa-Gatineau, Ontario/Quebec',\n",
       "     'line': {'color': '#00cc96', 'dash': 'solid'},\n",
       "     'mode': 'lines',\n",
       "     'name': 'Ottawa-Gatineau, Ontario/Quebec',\n",
       "     'showlegend': True,\n",
       "     'uid': 'bc8577b9-5430-49f7-80ba-d42fc0f16dd9',\n",
       "     'x': array([1976, 1977, 1978, 1979, 1980, 1981, 1982, 1983, 1984, 1985, 1986, 1987,\n",
       "                 1988, 1989, 1990, 1991, 1992, 1993, 1994, 1995, 1996, 1997, 1998, 1999,\n",
       "                 2000, 2001, 2002, 2003, 2004, 2005, 2006, 2007, 2008, 2009, 2010, 2011,\n",
       "                 2012, 2013, 2014, 2015, 2016, 2017, 2018], dtype=int64),\n",
       "     'xaxis': 'x',\n",
       "     'y': array([68600., 52400., 57600., 58900., 47700., 54800., 58500., 55300., 55000.,\n",
       "                 53700., 53100., 53300., 63000., 60900., 54400., 51600., 52100., 54400.,\n",
       "                 49500., 47500., 45400., 47100., 46400., 53100., 54700., 53200., 58100.,\n",
       "                 51700., 53900., 53000., 53800., 60500., 62200., 70700., 66600., 67700.,\n",
       "                 65600., 58900., 69700., 60800., 64200., 58500., 65000.]),\n",
       "     'yaxis': 'y'\n",
       " }),\n",
       " Scatter({\n",
       "     'hoverlabel': {'namelength': 0},\n",
       "     'hovertemplate': 'GEO=Toronto, Ontario<br>REF_DATE=%{x}<br>VALUE=%{y}',\n",
       "     'legendgroup': 'Toronto, Ontario',\n",
       "     'line': {'color': '#ab63fa', 'dash': 'solid'},\n",
       "     'mode': 'lines',\n",
       "     'name': 'Toronto, Ontario',\n",
       "     'showlegend': True,\n",
       "     'uid': '68426f72-78f9-4ade-b282-f5b7453363ce',\n",
       "     'x': array([1976, 1977, 1978, 1979, 1980, 1981, 1982, 1983, 1984, 1985, 1986, 1987,\n",
       "                 1988, 1989, 1990, 1991, 1992, 1993, 1994, 1995, 1996, 1997, 1998, 1999,\n",
       "                 2000, 2001, 2002, 2003, 2004, 2005, 2006, 2007, 2008, 2009, 2010, 2011,\n",
       "                 2012, 2013, 2014, 2015, 2016, 2017, 2018], dtype=int64),\n",
       "     'xaxis': 'x',\n",
       "     'y': array([49400., 52600., 52300., 49700., 51800., 52700., 47300., 47600., 48800.,\n",
       "                 47600., 52400., 50200., 54500., 53500., 47700., 47700., 49600., 43400.,\n",
       "                 48800., 46400., 46100., 42400., 45600., 48900., 49300., 49200., 46600.,\n",
       "                 47600., 44700., 44000., 38800., 40100., 44400., 45300., 45800., 51300.,\n",
       "                 45200., 43000., 47500., 49600., 44300., 48500., 47700.]),\n",
       "     'yaxis': 'y'\n",
       " }),\n",
       " Scatter({\n",
       "     'hoverlabel': {'namelength': 0},\n",
       "     'hovertemplate': 'GEO=Winnipeg, Manitoba<br>REF_DATE=%{x}<br>VALUE=%{y}',\n",
       "     'legendgroup': 'Winnipeg, Manitoba',\n",
       "     'line': {'color': '#FFA15A', 'dash': 'solid'},\n",
       "     'mode': 'lines',\n",
       "     'name': 'Winnipeg, Manitoba',\n",
       "     'showlegend': True,\n",
       "     'uid': '9bbe68df-d651-495a-9af7-0734721ecd8f',\n",
       "     'x': array([1976, 1977, 1978, 1979, 1980, 1981, 1982, 1983, 1984, 1985, 1986, 1987,\n",
       "                 1988, 1989, 1990, 1991, 1992, 1993, 1994, 1995, 1996, 1997, 1998, 1999,\n",
       "                 2000, 2001, 2002, 2003, 2004, 2005, 2006, 2007, 2008, 2009, 2010, 2011,\n",
       "                 2012, 2013, 2014, 2015, 2016, 2017, 2018], dtype=int64),\n",
       "     'xaxis': 'x',\n",
       "     'y': array([45400., 47100., 48400., 46500., 47900., 41800., 43400., 41300., 48700.,\n",
       "                 44800., 47100., 43400., 45100., 43200., 45000., 36800., 42300., 39900.,\n",
       "                 42400., 40100., 40800., 40400., 42800., 42600., 43500., 44200., 43800.,\n",
       "                 44600., 44600., 42300., 44900., 43800., 48100., 48000., 44300., 46500.,\n",
       "                 45100., 46900., 44300., 46500., 44600., 48500., 47900.]),\n",
       "     'yaxis': 'y'\n",
       " }),\n",
       " Scatter({\n",
       "     'hoverlabel': {'namelength': 0},\n",
       "     'hovertemplate': 'GEO=Calgary, Alberta<br>REF_DATE=%{x}<br>VALUE=%{y}',\n",
       "     'legendgroup': 'Calgary, Alberta',\n",
       "     'line': {'color': '#19d3f3', 'dash': 'solid'},\n",
       "     'mode': 'lines',\n",
       "     'name': 'Calgary, Alberta',\n",
       "     'showlegend': True,\n",
       "     'uid': '65f5ae61-fd0c-4b4a-a53d-6db8acc0b7c4',\n",
       "     'x': array([1976, 1977, 1978, 1979, 1980, 1981, 1982, 1983, 1984, 1985, 1986, 1987,\n",
       "                 1988, 1989, 1990, 1991, 1992, 1993, 1994, 1995, 1996, 1997, 1998, 1999,\n",
       "                 2000, 2001, 2002, 2003, 2004, 2005, 2006, 2007, 2008, 2009, 2010, 2011,\n",
       "                 2012, 2013, 2014, 2015, 2016, 2017, 2018], dtype=int64),\n",
       "     'xaxis': 'x',\n",
       "     'y': array([56700., 55100., 54500., 51000., 61300., 52200., 60700., 46000., 43200.,\n",
       "                 56900., 52500., 51900., 51700., 53400., 47000., 46600., 42000., 43600.,\n",
       "                 45500., 47000., 40800., 43500., 44600., 49300., 48900., 50900., 49500.,\n",
       "                 50500., 49300., 46500., 51900., 55700., 49100., 49200., 50200., 54300.,\n",
       "                 53400., 58100., 63000., 59700., 52600., 48700., 57600.]),\n",
       "     'yaxis': 'y'\n",
       " }),\n",
       " Scatter({\n",
       "     'hoverlabel': {'namelength': 0},\n",
       "     'hovertemplate': 'GEO=Edmonton, Alberta<br>REF_DATE=%{x}<br>VALUE=%{y}',\n",
       "     'legendgroup': 'Edmonton, Alberta',\n",
       "     'line': {'color': '#FF6692', 'dash': 'solid'},\n",
       "     'mode': 'lines',\n",
       "     'name': 'Edmonton, Alberta',\n",
       "     'showlegend': True,\n",
       "     'uid': '6d8d68f5-a779-409e-bf07-0be76144be42',\n",
       "     'x': array([1976, 1977, 1978, 1979, 1980, 1981, 1982, 1983, 1984, 1985, 1986, 1987,\n",
       "                 1988, 1989, 1990, 1991, 1992, 1993, 1994, 1995, 1996, 1997, 1998, 1999,\n",
       "                 2000, 2001, 2002, 2003, 2004, 2005, 2006, 2007, 2008, 2009, 2010, 2011,\n",
       "                 2012, 2013, 2014, 2015, 2016, 2017, 2018], dtype=int64),\n",
       "     'xaxis': 'x',\n",
       "     'y': array([65700., 52900., 55700., 56000., 57600., 55400., 51000., 43300., 44000.,\n",
       "                 46600., 45900., 46800., 51700., 52300., 49600., 46300., 46900., 42300.,\n",
       "                 45500., 40700., 42800., 45300., 44700., 46400., 46200., 47600., 41700.,\n",
       "                 48500., 49800., 51100., 50600., 56000., 57600., 58200., 59500., 58900.,\n",
       "                 61500., 67200., 59600., 62700., 56100., 52800., 61400.]),\n",
       "     'yaxis': 'y'\n",
       " }),\n",
       " Scatter({\n",
       "     'hoverlabel': {'namelength': 0},\n",
       "     'hovertemplate': 'GEO=Vancouver, British Columbia<br>REF_DATE=%{x}<br>VALUE=%{y}',\n",
       "     'legendgroup': 'Vancouver, British Columbia',\n",
       "     'line': {'color': '#B6E880', 'dash': 'solid'},\n",
       "     'mode': 'lines',\n",
       "     'name': 'Vancouver, British Columbia',\n",
       "     'showlegend': True,\n",
       "     'uid': '0898670f-226e-4ae5-8509-cfda2bf7938c',\n",
       "     'x': array([1976, 1977, 1978, 1979, 1980, 1981, 1982, 1983, 1984, 1985, 1986, 1987,\n",
       "                 1988, 1989, 1990, 1991, 1992, 1993, 1994, 1995, 1996, 1997, 1998, 1999,\n",
       "                 2000, 2001, 2002, 2003, 2004, 2005, 2006, 2007, 2008, 2009, 2010, 2011,\n",
       "                 2012, 2013, 2014, 2015, 2016, 2017, 2018], dtype=int64),\n",
       "     'xaxis': 'x',\n",
       "     'y': array([59200., 49400., 53000., 52400., 56800., 53900., 51000., 54400., 47000.,\n",
       "                 51600., 51500., 46900., 46800., 51300., 47900., 44400., 45500., 46100.,\n",
       "                 44500., 45700., 40600., 41900., 42100., 43800., 48200., 46900., 45400.,\n",
       "                 45500., 40800., 40300., 40700., 45500., 43300., 39900., 40200., 45100.,\n",
       "                 45000., 45300., 52000., 45100., 48900., 49600., 50600.]),\n",
       "     'yaxis': 'y'\n",
       " }))"
      ]
     },
     "execution_count": 65,
     "metadata": {},
     "output_type": "execute_result"
    }
   ],
   "source": [
    "scatter_plot.data"
   ]
  },
  {
   "cell_type": "code",
   "execution_count": 66,
   "metadata": {},
   "outputs": [
    {
     "data": {
      "text/plain": [
       "('Québec, Quebec',\n",
       " 'Montréal, Quebec',\n",
       " 'Ottawa-Gatineau, Ontario/Quebec',\n",
       " 'Toronto, Ontario',\n",
       " 'Winnipeg, Manitoba',\n",
       " 'Calgary, Alberta',\n",
       " 'Edmonton, Alberta',\n",
       " 'Vancouver, British Columbia')"
      ]
     },
     "execution_count": 66,
     "metadata": {},
     "output_type": "execute_result"
    }
   ],
   "source": [
    "geo_selector.value"
   ]
  },
  {
   "cell_type": "code",
   "execution_count": 63,
   "metadata": {},
   "outputs": [],
   "source": [
    "def update_scatter_plot(change):\n",
    "    global scatter_plot\n",
    "    age = age_dropdown.value\n",
    "    geo = geo_selector.value\n",
    "    sex = sex_selector.value\n",
    "    \n",
    "    scatter_plot = create_scatter_plot(df, sex, age, locations)\n",
    "\n",
    "age_dropdown.observe(update_scatter_plot, 'value')\n",
    "geo_selector.observe(update_scatter_plot, 'value')\n",
    "sex_selector.observe(update_scatter_plot, 'value')"
   ]
  },
  {
   "cell_type": "code",
   "execution_count": 64,
   "metadata": {},
   "outputs": [
    {
     "data": {
      "application/vnd.jupyter.widget-view+json": {
       "model_id": "706fda1a80d043ef8f58a33da68460df",
       "version_major": 2,
       "version_minor": 0
      },
      "text/plain": [
       "HBox(children=(VBox(children=(Dropdown(description='Age group', options=('16 years and over', '16 to 24 years'…"
      ]
     },
     "metadata": {},
     "output_type": "display_data"
    }
   ],
   "source": [
    "selections_box = VBox([age_dropdown, sex_selector, geo_selector])\n",
    "HBox([selections_box, scatter_plot])"
   ]
  },
  {
   "cell_type": "code",
   "execution_count": 67,
   "metadata": {},
   "outputs": [
    {
     "data": {
      "text/plain": [
       "('Saskatchewan',)"
      ]
     },
     "execution_count": 67,
     "metadata": {},
     "output_type": "execute_result"
    }
   ],
   "source": [
    "geo_selector.value"
   ]
  },
  {
   "cell_type": "code",
   "execution_count": null,
   "metadata": {},
   "outputs": [],
   "source": [
    "plot_data[\"Age group\"].unique()"
   ]
  },
  {
   "cell_type": "code",
   "execution_count": null,
   "metadata": {},
   "outputs": [],
   "source": [
    "plot_df = plot_data[plot_data.Sex==\"Both sexes\"]\n",
    "plot_df.head(2)"
   ]
  },
  {
   "cell_type": "code",
   "execution_count": null,
   "metadata": {},
   "outputs": [],
   "source": [
    "fig.data"
   ]
  },
  {
   "cell_type": "code",
   "execution_count": null,
   "metadata": {},
   "outputs": [],
   "source": [
    "provinces = "
   ]
  },
  {
   "cell_type": "code",
   "execution_count": null,
   "metadata": {},
   "outputs": [],
   "source": [
    "fig.data"
   ]
  },
  {
   "cell_type": "code",
   "execution_count": null,
   "metadata": {},
   "outputs": [],
   "source": [
    "go.Figure(data=go.Scatter(x=df.REF_DATE, y=df.VALUE, mode='markers', marker_color=df.GEO, ))"
   ]
  }
 ],
 "metadata": {
  "kernelspec": {
   "display_name": "Python 3",
   "language": "python",
   "name": "python3"
  },
  "language_info": {
   "codemirror_mode": {
    "name": "ipython",
    "version": 3
   },
   "file_extension": ".py",
   "mimetype": "text/x-python",
   "name": "python",
   "nbconvert_exporter": "python",
   "pygments_lexer": "ipython3",
   "version": "3.7.6"
  }
 },
 "nbformat": 4,
 "nbformat_minor": 4
}
