{
 "cells": [
  {
   "cell_type": "markdown",
   "metadata": {},
   "source": [
    "# Canadian median income in constant (2018) dollars\n",
    "\n",
    "Below you can explore median income in 2018 dollars for different regions in Canada between 1975-2017.  The data is based on [stats provided by Statistics Canada](https://doi.org/10.25318/1110023901-eng)."
   ]
  },
  {
   "cell_type": "code",
   "execution_count": 1,
   "metadata": {},
   "outputs": [],
   "source": [
    "import pandas as pd\n",
    "import numpy as np\n",
    "import plotly.graph_objects as go\n",
    "import plotly.express as px\n",
    "import ipywidgets as widgets\n",
    "from ipywidgets import HBox, VBox, Dropdown, Checkbox, IntSlider\n",
    "import logging\n",
    "import sys # for relative local imports\n",
    "sys.path.append('..')\n",
    "\n",
    "# local imports\n",
    "from data_analysis import wrangling\n",
    "\n",
    "logger = logging.getLogger(__name__)\n",
    "FORMAT = \"[%(filename)s:%(lineno)s - %(funcName)20s() ] %(message)s\"\n",
    "logging.basicConfig(format=FORMAT)\n",
    "logger.setLevel(logging.DEBUG)"
   ]
  },
  {
   "cell_type": "code",
   "execution_count": 2,
   "metadata": {},
   "outputs": [],
   "source": [
    "# 5.5s read time\n",
    "#load the data\n",
    "path = r\"../data/raw/11100239.csv\"\n",
    "df = pd.read_csv(path, low_memory=False)"
   ]
  },
  {
   "cell_type": "code",
   "execution_count": 3,
   "metadata": {},
   "outputs": [],
   "source": [
    "cols_to_keep = ['REF_DATE', \n",
    "                'GEO', \n",
    "                'Sex', \n",
    "                'Age group', \n",
    "                'Income source',\n",
    "                'Statistics',\n",
    "                'SCALAR_FACTOR', \n",
    "                'VALUE', \n",
    "                 ]\n",
    "\n",
    "selections = {'REF_DATE': np.array([1976, 1977, 1978, 1979, 1980, 1981, 1982, 1983, 1984, 1985, 1986,\n",
    "                1987, 1988, 1989, 1990, 1991, 1992, 1993, 1994, 1995, 1996, 1997,\n",
    "                1998, 1999, 2000, 2001, 2002, 2003, 2004, 2005, 2006, 2007, 2008,\n",
    "                2009, 2010, 2011, 2012, 2013, 2014, 2015, 2016, 2017, 2018],\n",
    "               dtype=int),\n",
    "         'GEO': np.array(['Canada', 'Atlantic provinces', 'Newfoundland and Labrador',\n",
    "                'Prince Edward Island', 'Nova Scotia', 'New Brunswick', 'Quebec',\n",
    "                'Ontario', 'Prairie provinces', 'Manitoba', 'Saskatchewan',\n",
    "                'Alberta', 'British Columbia', 'Québec, Quebec',\n",
    "                'Montréal, Quebec', 'Ottawa-Gatineau, Ontario/Quebec',\n",
    "                'Toronto, Ontario', 'Winnipeg, Manitoba', 'Calgary, Alberta',\n",
    "                'Edmonton, Alberta', 'Vancouver, British Columbia'], dtype=object),\n",
    "         'Sex': np.array(['Both sexes', 'Males', 'Females'], dtype=object),\n",
    "         'Age group': np.array(['16 years and over', '16 to 24 years', '25 to 54 years',\n",
    "                '25 to 34 years', '35 to 44 years', '45 to 54 years',\n",
    "                '55 to 64 years', '65 years and over'], dtype=object),\n",
    "         'Income source': np.array(['Total income', 'Market income', 'Employment income',\n",
    "                'Wages, salaries and commissions', 'Self-employment income',\n",
    "                'Investment income', 'Retirement income', 'Other income',\n",
    "                'Government transfers',\n",
    "                \"Old Age Security (OAS) and Guaranteed Income Supplement (GIS), Spouse's Allowance (SPA)\",\n",
    "                'Canada Pension Plan (CPP) and Quebec Pension Plan (QPP) benefits',\n",
    "                'Child benefits', 'Employment Insurance (EI) benefits',\n",
    "                'Social assistance', 'Other government transfers'], dtype=object),\n",
    "         'Statistics': np.array(['Average income (excluding zeros)',\n",
    "                'Median income (excluding zeros)'], dtype=object)}\n",
    "\n",
    "provinces = ['Atlantic provinces', 'Newfoundland and Labrador',\n",
    "                'Prince Edward Island', 'Nova Scotia', 'New Brunswick', 'Quebec',\n",
    "                'Ontario', 'Prairie provinces', 'Manitoba', 'Saskatchewan',\n",
    "                'Alberta', 'British Columbia']\n",
    "cities = ['Québec, Quebec',\n",
    "                'Montréal, Quebec', 'Ottawa-Gatineau, Ontario/Quebec',\n",
    "                'Toronto, Ontario', 'Winnipeg, Manitoba', 'Calgary, Alberta',\n",
    "                'Edmonton, Alberta', 'Vancouver, British Columbia']\n",
    "\n",
    "initial_sex = \"Females\"\n",
    "initial_geo = cities[-1]\n",
    "initial_age = selections[\"Age group\"][2]"
   ]
  },
  {
   "cell_type": "code",
   "execution_count": 4,
   "metadata": {},
   "outputs": [],
   "source": [
    "def subset_for_scatter_plot(df, year, income_source, income_to_plot, cols_to_keep):\n",
    "    df = df.loc[:,cols_to_keep]\n",
    "    df = df[df[\"Income source\"]==income_source]\n",
    "    df = df[df[\"Statistics\"]==income_to_plot]\n",
    "    return df"
   ]
  },
  {
   "cell_type": "code",
   "execution_count": 5,
   "metadata": {},
   "outputs": [],
   "source": [
    "plot_data = subset_for_scatter_plot(df, 2017, \"Total income\", 'Median income (excluding zeros)', cols_to_keep)"
   ]
  },
  {
   "cell_type": "code",
   "execution_count": 6,
   "metadata": {},
   "outputs": [],
   "source": [
    "sex_selector = widgets.SelectMultiple(\n",
    "    options=selections.get(\"Sex\"),\n",
    "    value=(initial_sex,),\n",
    "    #rows=10,\n",
    "    description='Sex',\n",
    "    disabled=False\n",
    ")\n",
    "geo_selector = widgets.SelectMultiple(\n",
    "    options=selections.get(\"GEO\"),\n",
    "    value = (initial_geo,),\n",
    "    description = \"Location\"\n",
    ")\n",
    "age_dropdown = widgets.Dropdown(\n",
    "    options=selections.get(\"Age group\"),\n",
    "    value=initial_age,\n",
    "    description=\"Age group\")"
   ]
  },
  {
   "cell_type": "code",
   "execution_count": 7,
   "metadata": {},
   "outputs": [],
   "source": [
    "def format_title(sex, age):\n",
    "    return f\"Median income (2018 dollars) for {', '.join(sex)} aged {age}\"\n",
    "\n",
    "def create_scatter_plot(df, sex, age, geo)->go.FigureWidget:\n",
    "    \"\"\"\n",
    "    Parameters\n",
    "    ----------\n",
    "    df : pd.DataFrame\n",
    "    sex : tuple\n",
    "    age : str\n",
    "    locations : tuple\n",
    "\n",
    "    \"\"\"\n",
    "\n",
    "    df = df[df[\"Age group\"]==age]\n",
    "    df = df[df.GEO.isin(geo)]\n",
    "    df = df[df.Sex.isin(sex)]\n",
    "    fig = px.line(df, x=\"REF_DATE\", y=\"VALUE\", color=\"GEO\", line_dash=\"Sex\")\n",
    "    fig.update_xaxes(range=[1975, 2020])\n",
    "    fig.update_yaxes(range=[0, 90000])\n",
    "    fig.update_layout(title=format_title(sex, age))\n",
    "    # fig.update_layout(legend_title= \"Location\")\n",
    "    \n",
    "    return go.FigureWidget(fig)\n",
    "\n",
    "# scatter_plot = create_scatter_plot(plot_data, sex_selector.value, age_dropdown.value, geo_selector.value)\n",
    "scatter_plot = create_scatter_plot(\n",
    "    plot_data,\n",
    "    sex_selector.value,\n",
    "    age_dropdown.value,\n",
    "    geo_selector.value)"
   ]
  },
  {
   "cell_type": "code",
   "execution_count": 8,
   "metadata": {},
   "outputs": [
    {
     "data": {
      "application/vnd.jupyter.widget-view+json": {
       "model_id": "d66e5a9f4a66441884c6153f8659e3d6",
       "version_major": 2,
       "version_minor": 0
      },
      "text/plain": [
       "VBox(children=(HBox(children=(VBox(children=(Dropdown(description='Age group', index=2, options=('16 years and…"
      ]
     },
     "metadata": {},
     "output_type": "display_data"
    }
   ],
   "source": [
    "def clear_plot_data(plot):\n",
    "    # we have to first delete the data in the plot\n",
    "    plot.data = []\n",
    "    return plot\n",
    "\n",
    "def update_plot_data(old_plot, new_plot):\n",
    "    for trace in new_plot.data:\n",
    "        old_plot.add_trace(trace)\n",
    "    return old_plot\n",
    "    \n",
    "def update_scatter_plot(change):\n",
    "    global scatter_plot\n",
    "    global plot_data\n",
    "    age = age_dropdown.value\n",
    "    geo = geo_selector.value\n",
    "    sex = sex_selector.value\n",
    "\n",
    "    # this is the current approach which doesn't work because it points to a new object\n",
    "    # scatter_plot = create_scatter_plot(df, sex, age, geo)\n",
    "    \n",
    "    # To display the plot, we have to operate on the \n",
    "    # original plot object instead of creating a new object\n",
    "    scatter_plot = clear_plot_data(scatter_plot)\n",
    "    new_plot = create_scatter_plot(plot_data, sex, age, geo)\n",
    "    scatter_plot = update_plot_data(scatter_plot, new_plot)\n",
    "    scatter_plot.update_layout(title=format_title(sex, age))\n",
    "    # scatter_plot.update_layout(legend={\"title\": \"Location\"})\n",
    "\n",
    "\n",
    "age_dropdown.observe(update_scatter_plot, 'value')\n",
    "geo_selector.observe(update_scatter_plot, 'value')\n",
    "sex_selector.observe(update_scatter_plot, 'value')\n",
    "\n",
    "left_selections = VBox([age_dropdown, sex_selector])\n",
    "all_selections = HBox([left_selections, geo_selector])\n",
    "VBox([all_selections, scatter_plot])"
   ]
  },
  {
   "cell_type": "code",
   "execution_count": null,
   "metadata": {},
   "outputs": [],
   "source": []
  }
 ],
 "metadata": {
  "kernelspec": {
   "display_name": "Python 3",
   "language": "python",
   "name": "python3"
  },
  "language_info": {
   "codemirror_mode": {
    "name": "ipython",
    "version": 3
   },
   "file_extension": ".py",
   "mimetype": "text/x-python",
   "name": "python",
   "nbconvert_exporter": "python",
   "pygments_lexer": "ipython3",
   "version": "3.7.3"
  }
 },
 "nbformat": 4,
 "nbformat_minor": 4
}
