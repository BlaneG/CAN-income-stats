{
 "cells": [
  {
   "cell_type": "markdown",
   "metadata": {},
   "source": [
    "# Canadian median income in constant (2018) dollars\n",
    "\n",
    "Below you can explore median income in 2018 dollars for different regions in Canada between 1975-2017.  The data is based on [stats provided by Statistics Canada](https://doi.org/10.25318/1110023901-eng)."
   ]
  },
  {
   "cell_type": "code",
   "execution_count": 1,
   "metadata": {},
   "outputs": [],
   "source": [
    "import pandas as pd\n",
    "import numpy as np\n",
    "import plotly.graph_objects as go\n",
    "import plotly.express as px\n",
    "import ipywidgets as widgets\n",
    "from ipywidgets import HBox, VBox, Dropdown, Checkbox, IntSlider\n",
    "import logging\n",
    "import sys # for relative local imports\n",
    "\n",
    "sys.path.append('..')\n",
    "\n",
    "# local imports\n",
    "import wrangling\n",
    "from load_data import median_income_dropdown_values\n",
    "from visualize import format_scatter_title, create_scatter_plot\n",
    "\n",
    "logger = logging.getLogger(__name__)\n",
    "FORMAT = \"[%(filename)s:%(lineno)s - %(funcName)20s() ] %(message)s\"\n",
    "logging.basicConfig(format=FORMAT)\n",
    "logger.setLevel(logging.DEBUG)"
   ]
  },
  {
   "cell_type": "code",
   "execution_count": 2,
   "metadata": {},
   "outputs": [],
   "source": [
    "# 5.5s read time\n",
    "#load the data\n",
    "path = r\"../data/raw/11100239.csv\"\n",
    "df = pd.read_csv(path, low_memory=False)"
   ]
  },
  {
   "cell_type": "code",
   "execution_count": 3,
   "metadata": {},
   "outputs": [],
   "source": [
    "cols_to_keep = ['REF_DATE', \n",
    "                'GEO', \n",
    "                'Sex', \n",
    "                'Age group', \n",
    "                'Income source',\n",
    "                'Statistics',\n",
    "                'SCALAR_FACTOR', \n",
    "                'VALUE', \n",
    "                 ]\n",
    "\n",
    "provinces = ['Atlantic provinces', 'Newfoundland and Labrador',\n",
    "                'Prince Edward Island', 'Nova Scotia', 'New Brunswick', 'Quebec',\n",
    "                'Ontario', 'Prairie provinces', 'Manitoba', 'Saskatchewan',\n",
    "                'Alberta', 'British Columbia']\n",
    "cities = ['Québec, Quebec',\n",
    "                'Montréal, Quebec', 'Ottawa-Gatineau, Ontario/Quebec',\n",
    "                'Toronto, Ontario', 'Winnipeg, Manitoba', 'Calgary, Alberta',\n",
    "                'Edmonton, Alberta', 'Vancouver, British Columbia']\n",
    "\n",
    "initial_sex = \"Females\"\n",
    "initial_geo = cities[-1]\n",
    "initial_age = median_income_dropdown_values[\"Age group\"][2]"
   ]
  },
  {
   "cell_type": "code",
   "execution_count": 4,
   "metadata": {},
   "outputs": [],
   "source": [
    "# params\n",
    "year = 2017\n",
    "income_source = \"Total income\"\n",
    "income_to_plot = 'Median income (excluding zeros)'"
   ]
  },
  {
   "cell_type": "code",
   "execution_count": 5,
   "metadata": {},
   "outputs": [],
   "source": [
    "plot_data = wrangling.subset_for_scatter_plot(\n",
    "    df, year, income_source, income_to_plot, cols_to_keep)"
   ]
  },
  {
   "cell_type": "code",
   "execution_count": 6,
   "metadata": {},
   "outputs": [],
   "source": [
    "sex_selector = widgets.SelectMultiple(\n",
    "    options=median_income_dropdown_values.get(\"Sex\"),\n",
    "    value=(initial_sex,),\n",
    "    #rows=10,\n",
    "    description='Sex',\n",
    "    disabled=False\n",
    ")\n",
    "geo_selector = widgets.SelectMultiple(\n",
    "    options=median_income_dropdown_values.get(\"GEO\"),\n",
    "    value = (initial_geo,),\n",
    "    description = \"Location\"\n",
    ")\n",
    "age_dropdown = widgets.Dropdown(\n",
    "    options=median_income_dropdown_values.get(\"Age group\"),\n",
    "    value=initial_age,\n",
    "    description=\"Age group\")"
   ]
  },
  {
   "cell_type": "code",
   "execution_count": 7,
   "metadata": {},
   "outputs": [],
   "source": [
    "\n",
    "\n",
    "\n",
    "scatter_plot = create_scatter_plot(\n",
    "    plot_data,\n",
    "    sex_selector.value,\n",
    "    age_dropdown.value,\n",
    "    geo_selector.value)\n",
    "scatter_plot = go.FigureWidget(scatter_plot)"
   ]
  },
  {
   "cell_type": "code",
   "execution_count": 8,
   "metadata": {},
   "outputs": [
    {
     "data": {
      "application/vnd.jupyter.widget-view+json": {
       "model_id": "1f1724af464a4b8cb9d14b8acbc0f888",
       "version_major": 2,
       "version_minor": 0
      },
      "text/plain": [
       "VBox(children=(HBox(children=(VBox(children=(Dropdown(description='Age group', index=2, options=('16 years and…"
      ]
     },
     "metadata": {},
     "output_type": "display_data"
    }
   ],
   "source": [
    "def clear_plot_data(plot):\n",
    "    # we have to first delete the data in the plot\n",
    "    plot.data = []\n",
    "    return plot\n",
    "\n",
    "def update_plot_data(old_plot, new_plot):\n",
    "    for trace in new_plot.data:\n",
    "        old_plot.add_trace(trace)\n",
    "    return old_plot\n",
    "    \n",
    "def update_scatter_plot(change):\n",
    "    global scatter_plot\n",
    "    global plot_data\n",
    "    age = age_dropdown.value\n",
    "    geo = geo_selector.value\n",
    "    sex = sex_selector.value\n",
    "\n",
    "    # this is the current approach which doesn't work because it points to a new object\n",
    "    # scatter_plot = create_scatter_plot(df, sex, age, geo)\n",
    "    \n",
    "    # To display the plot, we have to operate on the \n",
    "    # original plot object instead of creating a new object\n",
    "    scatter_plot = clear_plot_data(scatter_plot)\n",
    "    new_plot = create_scatter_plot(plot_data, sex, age, geo)\n",
    "    scatter_plot = update_plot_data(scatter_plot, new_plot)\n",
    "    scatter_plot.update_layout(title=format_title(sex, age))\n",
    "    scatter_plot.update_layout(showlegend=True)\n",
    "    scatter_plot.update_layout(legend_title=\"Location\")\n",
    "\n",
    "\n",
    "age_dropdown.observe(update_scatter_plot, 'value')\n",
    "geo_selector.observe(update_scatter_plot, 'value')\n",
    "sex_selector.observe(update_scatter_plot, 'value')\n",
    "\n",
    "left_selections = VBox([age_dropdown, sex_selector])\n",
    "all_selections = HBox([left_selections, geo_selector])\n",
    "VBox([all_selections, scatter_plot])"
   ]
  },
  {
   "cell_type": "code",
   "execution_count": null,
   "metadata": {},
   "outputs": [],
   "source": []
  }
 ],
 "metadata": {
  "kernelspec": {
   "display_name": "Python 3",
   "language": "python",
   "name": "python3"
  },
  "language_info": {
   "codemirror_mode": {
    "name": "ipython",
    "version": 3
   },
   "file_extension": ".py",
   "mimetype": "text/x-python",
   "name": "python",
   "nbconvert_exporter": "python",
   "pygments_lexer": "ipython3",
   "version": "3.7.3"
  }
 },
 "nbformat": 4,
 "nbformat_minor": 4
}
